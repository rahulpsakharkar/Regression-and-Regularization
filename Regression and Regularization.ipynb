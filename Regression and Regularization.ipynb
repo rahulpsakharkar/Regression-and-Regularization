{
 "cells": [
  {
   "cell_type": "markdown",
   "metadata": {},
   "source": [
    "### Analysis Goals\n",
    "In this analysis the purpose is to analyse Linear Regression Methods along with Lasso, Ridge and ElasticNet Regularization. I will not be foucusing more on Data Preparation and EDA part."
   ]
  },
  {
   "cell_type": "code",
   "execution_count": 1,
   "metadata": {},
   "outputs": [],
   "source": [
    "import pandas as pd\n",
    "import numpy as np\n",
    "\n",
    "from sklearn.linear_model import LinearRegression, Lasso, Ridge, ElasticNet\n",
    "from sklearn.metrics import r2_score\n",
    "from sklearn.model_selection import train_test_split, KFold, cross_val_predict\n",
    "from sklearn.pipeline import Pipeline\n",
    "from sklearn.preprocessing import MinMaxScaler, PolynomialFeatures\n",
    "\n",
    "import matplotlib.pyplot as plt\n",
    "%matplotlib inline\n",
    "\n",
    "import warnings\n",
    "warnings.simplefilter(\"ignore\")"
   ]
  },
  {
   "cell_type": "code",
   "execution_count": 2,
   "metadata": {},
   "outputs": [
    {
     "data": {
      "text/html": [
       "<div>\n",
       "<style scoped>\n",
       "    .dataframe tbody tr th:only-of-type {\n",
       "        vertical-align: middle;\n",
       "    }\n",
       "\n",
       "    .dataframe tbody tr th {\n",
       "        vertical-align: top;\n",
       "    }\n",
       "\n",
       "    .dataframe thead th {\n",
       "        text-align: right;\n",
       "    }\n",
       "</style>\n",
       "<table border=\"1\" class=\"dataframe\">\n",
       "  <thead>\n",
       "    <tr style=\"text-align: right;\">\n",
       "      <th></th>\n",
       "      <th>Suburb</th>\n",
       "      <th>Address</th>\n",
       "      <th>Rooms</th>\n",
       "      <th>Type</th>\n",
       "      <th>Price</th>\n",
       "      <th>Method</th>\n",
       "      <th>SellerG</th>\n",
       "      <th>Date</th>\n",
       "      <th>Distance</th>\n",
       "      <th>Postcode</th>\n",
       "      <th>...</th>\n",
       "      <th>Bathroom</th>\n",
       "      <th>Car</th>\n",
       "      <th>Landsize</th>\n",
       "      <th>BuildingArea</th>\n",
       "      <th>YearBuilt</th>\n",
       "      <th>CouncilArea</th>\n",
       "      <th>Lattitude</th>\n",
       "      <th>Longtitude</th>\n",
       "      <th>Regionname</th>\n",
       "      <th>Propertycount</th>\n",
       "    </tr>\n",
       "  </thead>\n",
       "  <tbody>\n",
       "    <tr>\n",
       "      <th>0</th>\n",
       "      <td>Abbotsford</td>\n",
       "      <td>68 Studley St</td>\n",
       "      <td>2</td>\n",
       "      <td>h</td>\n",
       "      <td>NaN</td>\n",
       "      <td>SS</td>\n",
       "      <td>Jellis</td>\n",
       "      <td>03-09-2016</td>\n",
       "      <td>2.5</td>\n",
       "      <td>3067.0</td>\n",
       "      <td>...</td>\n",
       "      <td>1.0</td>\n",
       "      <td>1.0</td>\n",
       "      <td>126.0</td>\n",
       "      <td>NaN</td>\n",
       "      <td>NaN</td>\n",
       "      <td>Yarra City Council</td>\n",
       "      <td>-37.8014</td>\n",
       "      <td>144.9958</td>\n",
       "      <td>Northern Metropolitan</td>\n",
       "      <td>4019.0</td>\n",
       "    </tr>\n",
       "    <tr>\n",
       "      <th>1</th>\n",
       "      <td>Abbotsford</td>\n",
       "      <td>85 Turner St</td>\n",
       "      <td>2</td>\n",
       "      <td>h</td>\n",
       "      <td>1480000.0</td>\n",
       "      <td>S</td>\n",
       "      <td>Biggin</td>\n",
       "      <td>03-12-2016</td>\n",
       "      <td>2.5</td>\n",
       "      <td>3067.0</td>\n",
       "      <td>...</td>\n",
       "      <td>1.0</td>\n",
       "      <td>1.0</td>\n",
       "      <td>202.0</td>\n",
       "      <td>NaN</td>\n",
       "      <td>NaN</td>\n",
       "      <td>Yarra City Council</td>\n",
       "      <td>-37.7996</td>\n",
       "      <td>144.9984</td>\n",
       "      <td>Northern Metropolitan</td>\n",
       "      <td>4019.0</td>\n",
       "    </tr>\n",
       "  </tbody>\n",
       "</table>\n",
       "<p>2 rows × 21 columns</p>\n",
       "</div>"
      ],
      "text/plain": [
       "       Suburb        Address  Rooms Type      Price Method SellerG  \\\n",
       "0  Abbotsford  68 Studley St      2    h        NaN     SS  Jellis   \n",
       "1  Abbotsford   85 Turner St      2    h  1480000.0      S  Biggin   \n",
       "\n",
       "         Date  Distance  Postcode  ...  Bathroom  Car  Landsize  BuildingArea  \\\n",
       "0  03-09-2016       2.5    3067.0  ...       1.0  1.0     126.0           NaN   \n",
       "1  03-12-2016       2.5    3067.0  ...       1.0  1.0     202.0           NaN   \n",
       "\n",
       "   YearBuilt         CouncilArea Lattitude  Longtitude             Regionname  \\\n",
       "0        NaN  Yarra City Council  -37.8014    144.9958  Northern Metropolitan   \n",
       "1        NaN  Yarra City Council  -37.7996    144.9984  Northern Metropolitan   \n",
       "\n",
       "  Propertycount  \n",
       "0        4019.0  \n",
       "1        4019.0  \n",
       "\n",
       "[2 rows x 21 columns]"
      ]
     },
     "execution_count": 2,
     "metadata": {},
     "output_type": "execute_result"
    }
   ],
   "source": [
    "# Load data\n",
    "melbourne_housing = pd.read_csv(r\"D:\\Datasets\\Melbourne_housing.csv\")\n",
    "melbourne_housing.head(2)"
   ]
  },
  {
   "cell_type": "code",
   "execution_count": 3,
   "metadata": {},
   "outputs": [
    {
     "name": "stdout",
     "output_type": "stream",
     "text": [
      "<class 'pandas.core.frame.DataFrame'>\n",
      "RangeIndex: 34857 entries, 0 to 34856\n",
      "Data columns (total 21 columns):\n",
      " #   Column         Non-Null Count  Dtype  \n",
      "---  ------         --------------  -----  \n",
      " 0   Suburb         34857 non-null  object \n",
      " 1   Address        34857 non-null  object \n",
      " 2   Rooms          34857 non-null  int64  \n",
      " 3   Type           34857 non-null  object \n",
      " 4   Price          27247 non-null  float64\n",
      " 5   Method         34857 non-null  object \n",
      " 6   SellerG        34857 non-null  object \n",
      " 7   Date           34857 non-null  object \n",
      " 8   Distance       34856 non-null  float64\n",
      " 9   Postcode       34856 non-null  float64\n",
      " 10  Bedroom2       26640 non-null  float64\n",
      " 11  Bathroom       26631 non-null  float64\n",
      " 12  Car            26129 non-null  float64\n",
      " 13  Landsize       23047 non-null  float64\n",
      " 14  BuildingArea   13742 non-null  float64\n",
      " 15  YearBuilt      15551 non-null  float64\n",
      " 16  CouncilArea    34854 non-null  object \n",
      " 17  Lattitude      26881 non-null  float64\n",
      " 18  Longtitude     26881 non-null  float64\n",
      " 19  Regionname     34854 non-null  object \n",
      " 20  Propertycount  34854 non-null  float64\n",
      "dtypes: float64(12), int64(1), object(8)\n",
      "memory usage: 5.6+ MB\n"
     ]
    }
   ],
   "source": [
    "melbourne_housing.info()"
   ]
  },
  {
   "cell_type": "code",
   "execution_count": 4,
   "metadata": {},
   "outputs": [
    {
     "data": {
      "text/plain": [
       "Suburb               0\n",
       "Address              0\n",
       "Rooms                0\n",
       "Type                 0\n",
       "Price             7610\n",
       "Method               0\n",
       "SellerG              0\n",
       "Date                 0\n",
       "Distance             1\n",
       "Postcode             1\n",
       "Bedroom2          8217\n",
       "Bathroom          8226\n",
       "Car               8728\n",
       "Landsize         11810\n",
       "BuildingArea     21115\n",
       "YearBuilt        19306\n",
       "CouncilArea          3\n",
       "Lattitude         7976\n",
       "Longtitude        7976\n",
       "Regionname           3\n",
       "Propertycount        3\n",
       "dtype: int64"
      ]
     },
     "execution_count": 4,
     "metadata": {},
     "output_type": "execute_result"
    }
   ],
   "source": [
    "melbourne_housing.isnull().sum()"
   ]
  },
  {
   "cell_type": "code",
   "execution_count": 5,
   "metadata": {},
   "outputs": [],
   "source": [
    "# We are going to drop below columns as OneHotEncoding will increase number of columns by huge number\n",
    "# Also our main objective here is not on data cleaning but on demonstrating Linear Regression Algorithms hence saving time\n",
    "\n",
    "melbourne_housing.drop(['Suburb', 'Address', 'SellerG', 'Lattitude', 'Longtitude', 'Propertycount'],axis=1, inplace=True)"
   ]
  },
  {
   "cell_type": "code",
   "execution_count": 6,
   "metadata": {},
   "outputs": [
    {
     "data": {
      "text/plain": [
       "(8895, 15)"
      ]
     },
     "execution_count": 6,
     "metadata": {},
     "output_type": "execute_result"
    }
   ],
   "source": [
    "# Drop all rows if any columns in a row contains null value\n",
    "melbourne_housing.dropna(inplace=True)\n",
    "melbourne_housing.shape"
   ]
  },
  {
   "cell_type": "code",
   "execution_count": 7,
   "metadata": {},
   "outputs": [
    {
     "data": {
      "text/plain": [
       "(8895, 56)"
      ]
     },
     "execution_count": 7,
     "metadata": {},
     "output_type": "execute_result"
    }
   ],
   "source": [
    "# Create dummy features for categorical columns\n",
    "melbourne_housing = pd.get_dummies(melbourne_housing, columns=['Type', 'Method', 'CouncilArea', 'Regionname'], drop_first=True)\n",
    "melbourne_housing.shape"
   ]
  },
  {
   "cell_type": "code",
   "execution_count": 8,
   "metadata": {},
   "outputs": [],
   "source": [
    "# Extract sell year from date and convert to integer type\n",
    "melbourne_housing['SellYear'] = melbourne_housing.Date.apply(lambda x: x[-4:]).astype(np.int)\n",
    "melbourne_housing.drop(['Date'],axis=1, inplace=True)\n",
    "\n",
    "# Conver YearBuilt from object to integer\n",
    "melbourne_housing.YearBuilt = melbourne_housing.YearBuilt.astype(np.int)"
   ]
  },
  {
   "cell_type": "code",
   "execution_count": 9,
   "metadata": {},
   "outputs": [
    {
     "data": {
      "text/plain": [
       "0"
      ]
     },
     "execution_count": 9,
     "metadata": {},
     "output_type": "execute_result"
    }
   ],
   "source": [
    "melbourne_housing.isnull().sum().sum()   # All null values removed"
   ]
  },
  {
   "cell_type": "code",
   "execution_count": 10,
   "metadata": {},
   "outputs": [],
   "source": [
    "# Create a dictionary to save r2scores for each algorithm\n",
    "r2score_dict = {}"
   ]
  },
  {
   "cell_type": "markdown",
   "metadata": {},
   "source": [
    "### Simple Linear Regression"
   ]
  },
  {
   "cell_type": "code",
   "execution_count": 11,
   "metadata": {},
   "outputs": [],
   "source": [
    "# Prepare data for fitting\n",
    "X = melbourne_housing.drop(['Price'], axis=1)\n",
    "y = melbourne_housing['Price']\n",
    "\n",
    "X_train, X_test, y_train, y_test = train_test_split(X, y, test_size=0.3, random_state=40)"
   ]
  },
  {
   "cell_type": "code",
   "execution_count": 12,
   "metadata": {},
   "outputs": [
    {
     "data": {
      "text/plain": [
       "0.67562885178392"
      ]
     },
     "execution_count": 12,
     "metadata": {},
     "output_type": "execute_result"
    }
   ],
   "source": [
    "# Create simple linear regression object, fit to data and calculate r2score\n",
    "slr = LinearRegression()\n",
    "slr.fit(X_train, y_train)\n",
    "slr_predictions = slr.predict(X_test)\n",
    "slr_r2score = r2_score(y_test, slr_predictions)\n",
    "r2score_dict['Simple Linear Regression'] = slr_r2score\n",
    "slr_r2score"
   ]
  },
  {
   "cell_type": "code",
   "execution_count": 13,
   "metadata": {},
   "outputs": [
    {
     "data": {
      "text/plain": [
       "Text(0.5, 1.06, 'Melbourne Housing Price Predictions vs Actual')"
      ]
     },
     "execution_count": 13,
     "metadata": {},
     "output_type": "execute_result"
    },
    {
     "data": {
      "image/png": "[encoded data removed]",
      "text/plain": [
       "<Figure size 432x288 with 1 Axes>"
      ]
     },
     "metadata": {
      "needs_background": "light"
     },
     "output_type": "display_data"
    }
   ],
   "source": [
    "# Plot of predictions vs actual\n",
    "fig = plt.figure(figsize = (6,4))\n",
    "plt.scatter(y_test, slr_predictions, alpha=.5)\n",
    "fig.suptitle('Simple Linear Regression', fontsize=18, y=1.07)\n",
    "plt.xlabel('Actual', fontsize=16)\n",
    "plt.ylabel('Predictions', fontsize=16)\n",
    "plt.title('Melbourne Housing Price Predictions vs Actual', fontsize=16, y=1.06)"
   ]
  },
  {
   "cell_type": "markdown",
   "metadata": {},
   "source": [
    "### Simple Linear Regression using MinMaxScaler"
   ]
  },
  {
   "cell_type": "code",
   "execution_count": 14,
   "metadata": {},
   "outputs": [
    {
     "data": {
      "text/plain": [
       "LinearRegression()"
      ]
     },
     "execution_count": 14,
     "metadata": {},
     "output_type": "execute_result"
    }
   ],
   "source": [
    "mms = MinMaxScaler()\n",
    "slr_WithMinMaxScaling = LinearRegression()\n",
    "\n",
    "trainingset = X_train.copy()  # copy because we dont want to scale this more than once.\n",
    "testset = X_test.copy()\n",
    "trainingset = mms.fit_transform(trainingset)\n",
    "testset = mms.transform(testset)\n",
    "slr_WithMinMaxScaling.fit(trainingset, y_train)"
   ]
  },
  {
   "cell_type": "code",
   "execution_count": 15,
   "metadata": {},
   "outputs": [
    {
     "data": {
      "text/plain": [
       "0.6756288517839144"
      ]
     },
     "execution_count": 15,
     "metadata": {},
     "output_type": "execute_result"
    }
   ],
   "source": [
    "slr_WithMinMaxScaling_predictions = slr_WithMinMaxScaling.predict(testset)\n",
    "slr_WithMinMaxScaling_r2score = r2_score(y_test, slr_WithMinMaxScaling_predictions)\n",
    "r2score_dict['Simple Linear Regression with MinMax Scaling'] = slr_WithMinMaxScaling_r2score\n",
    "slr_WithMinMaxScaling_r2score # Using MinMax scaling with Linear regression does not improve performance of model much"
   ]
  },
  {
   "cell_type": "code",
   "execution_count": 16,
   "metadata": {},
   "outputs": [
    {
     "data": {
      "text/plain": [
       "Text(0.5, 1.06, 'Melbourne Housing Price Predictions vs Actual')"
      ]
     },
     "execution_count": 16,
     "metadata": {},
     "output_type": "execute_result"
    },
    {
     "data": {
      "image/png": "[encoded data removed]",
      "text/plain": [
       "<Figure size 432x288 with 1 Axes>"
      ]
     },
     "metadata": {
      "needs_background": "light"
     },
     "output_type": "display_data"
    }
   ],
   "source": [
    "# Plot of predictions vs actual\n",
    "fig = plt.figure(figsize = (6,4))\n",
    "plt.scatter(y_test, slr_WithMinMaxScaling_predictions, alpha=.5)\n",
    "fig.suptitle('Simple Linear Regression With MinMaxScaling', fontsize=18, y=1.07)\n",
    "plt.xlabel('Actual', fontsize=16)\n",
    "plt.ylabel('Predictions', fontsize=16)\n",
    "plt.title('Melbourne Housing Price Predictions vs Actual', fontsize=16, y=1.06)"
   ]
  },
  {
   "cell_type": "markdown",
   "metadata": {},
   "source": [
    "### Cross Validation"
   ]
  },
  {
   "cell_type": "code",
   "execution_count": 17,
   "metadata": {},
   "outputs": [],
   "source": [
    "# Evaluate Simple Linear Regression with Cross Validation\n",
    "kf = KFold(shuffle = True, random_state = 18, n_splits = 3)\n",
    "\n",
    "cvlr = LinearRegression()\n",
    "estimator = Pipeline([(\"scaler\", mms), (\"regression\", cvlr)])"
   ]
  },
  {
   "cell_type": "code",
   "execution_count": 18,
   "metadata": {},
   "outputs": [
    {
     "data": {
      "text/plain": [
       "0.6706223090110537"
      ]
     },
     "execution_count": 18,
     "metadata": {},
     "output_type": "execute_result"
    }
   ],
   "source": [
    "cvlr_predictions = cross_val_predict(estimator, X, y, cv = kf)\n",
    "cvlr_r2score_ = r2_score(y, cvlr_predictions)\n",
    "cvlr_r2score = np.mean(cvlr_r2score_)\n",
    "r2score_dict['Simple Linear Regression with MinMax Scaling & Cross Validation'] = cvlr_r2score\n",
    "cvlr_r2score    # The r2score has not improved using Cross Validation"
   ]
  },
  {
   "cell_type": "code",
   "execution_count": 19,
   "metadata": {},
   "outputs": [
    {
     "data": {
      "text/plain": [
       "Text(0.5, 1.06, 'Melbourne Housing Price Predictions vs Actual')"
      ]
     },
     "execution_count": 19,
     "metadata": {},
     "output_type": "execute_result"
    },
    {
     "data": {
      "image/png": "[encoded data removed]",
      "text/plain": [
       "<Figure size 432x288 with 1 Axes>"
      ]
     },
     "metadata": {
      "needs_background": "light"
     },
     "output_type": "display_data"
    }
   ],
   "source": [
    "# Plot of predictions vs actual\n",
    "fig = plt.figure(figsize = (6,4))\n",
    "plt.scatter(y, cvlr_predictions, alpha=.5)\n",
    "fig.suptitle('Simple Linear Regression With MinMaxScaling and Cross Validation', fontsize=18, y=1.07)\n",
    "plt.xlabel('Actual', fontsize=16)\n",
    "plt.ylabel('Predictions', fontsize=16)\n",
    "plt.title('Melbourne Housing Price Predictions vs Actual', fontsize=16, y=1.06)"
   ]
  },
  {
   "cell_type": "markdown",
   "metadata": {},
   "source": [
    "### Lasso Regularization"
   ]
  },
  {
   "cell_type": "code",
   "execution_count": 20,
   "metadata": {},
   "outputs": [],
   "source": [
    "alphas = np.geomspace(1e-7, 1e2, num=10)\n",
    "\n",
    "scores = []\n",
    "for alpha in alphas:\n",
    "    las = Lasso(alpha=alpha, max_iter=100000)\n",
    "    \n",
    "    estimator = Pipeline([ (\"scaler\", mms),\n",
    "                           (\"lasso_regression\", las) ])\n",
    "\n",
    "    las_predictions = cross_val_predict(estimator, X, y, cv = kf)\n",
    "    \n",
    "    score = r2_score(y, las_predictions)\n",
    "    \n",
    "    scores.append(score)\n",
    "\n",
    "r2score_dict['Lasso Regression'] = np.mean(scores)"
   ]
  },
  {
   "cell_type": "code",
   "execution_count": 21,
   "metadata": {},
   "outputs": [
    {
     "data": {
      "text/plain": [
       "[(1e-07, 0.6706223090113645),\n",
       " (1e-06, 0.6706223090141606),\n",
       " (1e-05, 0.6706223090421226),\n",
       " (0.0001, 0.670622309321736),\n",
       " (0.001, 0.6706223121178603),\n",
       " (0.01, 0.6706223400713429),\n",
       " (0.1, 0.6706226188802155),\n",
       " (1.0, 0.6706253358322243),\n",
       " (10.0, 0.6706489537136725),\n",
       " (100.0, 0.6704695991378247)]"
      ]
     },
     "execution_count": 21,
     "metadata": {},
     "output_type": "execute_result"
    }
   ],
   "source": [
    "list(zip(alphas,scores)) # r2score has not improved much using Lasso Regression"
   ]
  },
  {
   "cell_type": "code",
   "execution_count": 22,
   "metadata": {},
   "outputs": [
    {
     "data": {
      "text/plain": [
       "array([ 1.23881959e+05, -3.73242890e+04,  2.58427593e+02,  0.00000000e+00,\n",
       "        1.63035662e+05,  4.51868398e+04,  1.86134225e+01,  1.56302749e+03,\n",
       "       -2.65453169e+03, -1.94390263e+05, -3.99733121e+05,  7.07837298e+04,\n",
       "        3.82347309e+04,  4.63364250e+04,  1.73854492e+04,  6.79704018e+05,\n",
       "        6.29301083e+05, -1.39670156e+05,  4.06570055e+05,  4.53165797e+04,\n",
       "        1.36670653e+05,  4.35193115e+05,  3.12090010e+05,  6.57051757e+04,\n",
       "        1.06104426e+05, -2.20445126e+04,  1.92642699e+05, -2.65095584e+04,\n",
       "        3.00269431e+05,  1.01185384e+05, -4.59654840e+04,  1.20968574e+05,\n",
       "        2.75307764e+05, -2.21351868e+05,  3.10988700e+05,  2.49466411e+05,\n",
       "        1.07063908e+05,  0.00000000e+00,  8.69520778e+04, -2.31052955e+05,\n",
       "        3.91711399e+05,  6.50672296e+05,  2.11909903e+05, -5.45806470e+03,\n",
       "       -1.89813834e+05,  2.33147713e+05,  1.61248243e+05, -0.00000000e+00,\n",
       "       -2.29837521e+05,  1.50735814e+05,  2.58418131e+04, -1.07507349e+05,\n",
       "       -1.55117763e+05,  1.85509501e+05,  4.87767303e+04])"
      ]
     },
     "execution_count": 22,
     "metadata": {},
     "output_type": "execute_result"
    }
   ],
   "source": [
    "Lasso(alpha=10).fit(X, y).coef_ # Some coefficients have become zero"
   ]
  },
  {
   "cell_type": "code",
   "execution_count": 23,
   "metadata": {},
   "outputs": [
    {
     "data": {
      "text/plain": [
       "3"
      ]
     },
     "execution_count": 23,
     "metadata": {},
     "output_type": "execute_result"
    }
   ],
   "source": [
    "len(Lasso(alpha=10).fit(X, y).coef_[Lasso(alpha=10).fit(X, y).coef_ == 0]) # 3 coefficients became zero using Lasso"
   ]
  },
  {
   "cell_type": "code",
   "execution_count": 24,
   "metadata": {},
   "outputs": [
    {
     "name": "stdout",
     "output_type": "stream",
     "text": [
      "3 coefficients became zero using Lasso Regularization.\n"
     ]
    }
   ],
   "source": [
    "Best_lasso = Lasso(alpha=10).fit(X, y)\n",
    "number_of_zero_coeff = len(Best_lasso.coef_[Best_lasso.coef_ == 0])\n",
    "print(('{} coefficients became zero using Lasso Regularization.'.format(number_of_zero_coeff)))"
   ]
  },
  {
   "cell_type": "code",
   "execution_count": 25,
   "metadata": {},
   "outputs": [
    {
     "data": {
      "image/png": "[encoded data removed]",
      "text/plain": [
       "<Figure size 720x432 with 1 Axes>"
      ]
     },
     "metadata": {
      "needs_background": "light"
     },
     "output_type": "display_data"
    }
   ],
   "source": [
    "plt.figure(figsize=(10,6))\n",
    "plt.semilogx(alphas, scores, '-o')\n",
    "plt.xlabel('$\\\\alpha$')\n",
    "plt.ylabel('$R^2$');"
   ]
  },
  {
   "cell_type": "markdown",
   "metadata": {},
   "source": [
    "### Lasso Regularization with Polynomial Features"
   ]
  },
  {
   "cell_type": "code",
   "execution_count": 26,
   "metadata": {},
   "outputs": [],
   "source": [
    "# Create polynomial feature object\n",
    "pf = PolynomialFeatures(degree=2)"
   ]
  },
  {
   "cell_type": "code",
   "execution_count": 27,
   "metadata": {},
   "outputs": [
    {
     "data": {
      "text/plain": [
       "Pipeline(steps=[('scaler', MinMaxScaler()),\n",
       "                ('make_higher_degree', PolynomialFeatures()),\n",
       "                ('lasso_regression', Lasso(alpha=10))])"
      ]
     },
     "execution_count": 27,
     "metadata": {},
     "output_type": "execute_result"
    }
   ],
   "source": [
    "# We will use best alpha from previous step, alpha = 10\n",
    "las_WithPoly = Pipeline([\n",
    "        (\"scaler\", mms),\n",
    "        (\"make_higher_degree\", pf),\n",
    "        (\"lasso_regression\", Lasso(alpha=10))])\n",
    "\n",
    "las_WithPoly.fit(X, y)"
   ]
  },
  {
   "cell_type": "code",
   "execution_count": 28,
   "metadata": {},
   "outputs": [
    {
     "data": {
      "text/plain": [
       "0.8188907503683591"
      ]
     },
     "execution_count": 28,
     "metadata": {},
     "output_type": "execute_result"
    }
   ],
   "source": [
    "las_WithPoly_predictions = las_WithPoly.predict(X)\n",
    "las_WithPoly_r2score = r2_score(y, las_WithPoly_predictions)\n",
    "r2score_dict['Lasso Regression with Polynomial Features'] = las_WithPoly_r2score\n",
    "las_WithPoly_r2score  # The score has improved very well using Lasso with polynomial features and MinMax scaling"
   ]
  },
  {
   "cell_type": "code",
   "execution_count": 29,
   "metadata": {},
   "outputs": [
    {
     "data": {
      "text/html": [
       "<div>\n",
       "<style scoped>\n",
       "    .dataframe tbody tr th:only-of-type {\n",
       "        vertical-align: middle;\n",
       "    }\n",
       "\n",
       "    .dataframe tbody tr th {\n",
       "        vertical-align: top;\n",
       "    }\n",
       "\n",
       "    .dataframe thead th {\n",
       "        text-align: right;\n",
       "    }\n",
       "</style>\n",
       "<table border=\"1\" class=\"dataframe\">\n",
       "  <thead>\n",
       "    <tr style=\"text-align: right;\">\n",
       "      <th></th>\n",
       "      <th>0</th>\n",
       "      <th>1</th>\n",
       "    </tr>\n",
       "  </thead>\n",
       "  <tbody>\n",
       "    <tr>\n",
       "      <th>117</th>\n",
       "      <td>x1 x7</td>\n",
       "      <td>-1.122345e+07</td>\n",
       "    </tr>\n",
       "    <tr>\n",
       "      <th>420</th>\n",
       "      <td>x7^2</td>\n",
       "      <td>-1.031334e+07</td>\n",
       "    </tr>\n",
       "    <tr>\n",
       "      <th>375</th>\n",
       "      <td>x6 x10</td>\n",
       "      <td>-9.226848e+06</td>\n",
       "    </tr>\n",
       "    <tr>\n",
       "      <th>374</th>\n",
       "      <td>x6 x9</td>\n",
       "      <td>-8.265003e+06</td>\n",
       "    </tr>\n",
       "    <tr>\n",
       "      <th>116</th>\n",
       "      <td>x1 x6</td>\n",
       "      <td>-8.073662e+06</td>\n",
       "    </tr>\n",
       "    <tr>\n",
       "      <th>...</th>\n",
       "      <td>...</td>\n",
       "      <td>...</td>\n",
       "    </tr>\n",
       "    <tr>\n",
       "      <th>7</th>\n",
       "      <td>x6</td>\n",
       "      <td>1.047117e+07</td>\n",
       "    </tr>\n",
       "    <tr>\n",
       "      <th>273</th>\n",
       "      <td>x4 x7</td>\n",
       "      <td>1.052585e+07</td>\n",
       "    </tr>\n",
       "    <tr>\n",
       "      <th>62</th>\n",
       "      <td>x0 x6</td>\n",
       "      <td>1.160298e+07</td>\n",
       "    </tr>\n",
       "    <tr>\n",
       "      <th>454</th>\n",
       "      <td>x7 x41</td>\n",
       "      <td>1.274605e+07</td>\n",
       "    </tr>\n",
       "    <tr>\n",
       "      <th>453</th>\n",
       "      <td>x7 x40</td>\n",
       "      <td>1.293484e+07</td>\n",
       "    </tr>\n",
       "  </tbody>\n",
       "</table>\n",
       "<p>1596 rows × 2 columns</p>\n",
       "</div>"
      ],
      "text/plain": [
       "          0             1\n",
       "117   x1 x7 -1.122345e+07\n",
       "420    x7^2 -1.031334e+07\n",
       "375  x6 x10 -9.226848e+06\n",
       "374   x6 x9 -8.265003e+06\n",
       "116   x1 x6 -8.073662e+06\n",
       "..      ...           ...\n",
       "7        x6  1.047117e+07\n",
       "273   x4 x7  1.052585e+07\n",
       "62    x0 x6  1.160298e+07\n",
       "454  x7 x41  1.274605e+07\n",
       "453  x7 x40  1.293484e+07\n",
       "\n",
       "[1596 rows x 2 columns]"
      ]
     },
     "execution_count": 29,
     "metadata": {},
     "output_type": "execute_result"
    }
   ],
   "source": [
    "df_importances = pd.DataFrame(zip(las_WithPoly.named_steps[\"make_higher_degree\"].get_feature_names(),\n",
    "                 las_WithPoly.named_steps[\"lasso_regression\"].coef_,\n",
    "))\n",
    "col_names_dict = dict(zip(list(range(len(X.columns.values))), X.columns.values))\n",
    "df_importances.sort_values(by=1)"
   ]
  },
  {
   "cell_type": "code",
   "execution_count": 30,
   "metadata": {},
   "outputs": [
    {
     "data": {
      "text/plain": [
       "Text(0.5, 1.06, 'Melbourne Housing Price Predictions vs Actual')"
      ]
     },
     "execution_count": 30,
     "metadata": {},
     "output_type": "execute_result"
    },
    {
     "data": {
      "image/png": "[encoded data removed]",
      "text/plain": [
       "<Figure size 432x288 with 1 Axes>"
      ]
     },
     "metadata": {
      "needs_background": "light"
     },
     "output_type": "display_data"
    }
   ],
   "source": [
    "# Plot of predictions vs actual\n",
    "fig = plt.figure(figsize = (6,4))\n",
    "plt.scatter(y, las_WithPoly_predictions, alpha=.5)\n",
    "fig.suptitle('Lasso Regression With MinMaxScaling and Polynomial Features', fontsize=18, y=1.07)\n",
    "plt.xlabel('Actual', fontsize=16)\n",
    "plt.ylabel('Predictions', fontsize=16)\n",
    "plt.title('Melbourne Housing Price Predictions vs Actual', fontsize=16, y=1.06)"
   ]
  },
  {
   "cell_type": "markdown",
   "metadata": {},
   "source": [
    "### Ridge Regularization"
   ]
  },
  {
   "cell_type": "code",
   "execution_count": 31,
   "metadata": {},
   "outputs": [],
   "source": [
    "alphas = np.geomspace(0.00001, 100, 8)\n",
    "\n",
    "scores = []\n",
    "for alpha in alphas:\n",
    "    ridge = Ridge(alpha=alpha, max_iter=200000)\n",
    "    \n",
    "    estimator = Pipeline([ (\"scaler\", mms),\n",
    "                           (\"ridge_regression\", ridge) ])\n",
    "\n",
    "    ridge_predictions = cross_val_predict(estimator, X, y, cv = kf)\n",
    "    \n",
    "    score = r2_score(y, ridge_predictions)\n",
    "    \n",
    "    scores.append(score)\n",
    "\n",
    "r2score_dict['Ridge Regression'] = np.mean(scores)"
   ]
  },
  {
   "cell_type": "code",
   "execution_count": 32,
   "metadata": {},
   "outputs": [
    {
     "data": {
      "text/plain": [
       "[(1e-05, 0.6706223018784172),\n",
       " (0.0001, 0.6706222376699822),\n",
       " (0.001, 0.6706215941310321),\n",
       " (0.01, 0.6706150145616917),\n",
       " (0.1, 0.6705359927766881),\n",
       " (1.0, 0.6691006801203345),\n",
       " (10.0, 0.6558765310871311),\n",
       " (100.0, 0.5887132175475279)]"
      ]
     },
     "execution_count": 32,
     "metadata": {},
     "output_type": "execute_result"
    }
   ],
   "source": [
    "list(zip(alphas,scores))"
   ]
  },
  {
   "cell_type": "code",
   "execution_count": 33,
   "metadata": {},
   "outputs": [
    {
     "data": {
      "text/plain": [
       "0"
      ]
     },
     "execution_count": 33,
     "metadata": {},
     "output_type": "execute_result"
    }
   ],
   "source": [
    "len(Ridge(alpha=0.00001).fit(X, y).coef_[Ridge(alpha=0.00001).fit(X, y).coef_ == 0]) # 0 coefficients became zero"
   ]
  },
  {
   "cell_type": "code",
   "execution_count": 34,
   "metadata": {},
   "outputs": [
    {
     "name": "stdout",
     "output_type": "stream",
     "text": [
      "0 coefficients became zero using Ridge Regularization.\n"
     ]
    }
   ],
   "source": [
    "Best_ridge = Lasso(alpha=0.00001).fit(X, y)\n",
    "number_of_zero_coeff = len(Best_ridge.coef_[Best_ridge.coef_ == 0])\n",
    "print(('{} coefficients became zero using Ridge Regularization.'.format(number_of_zero_coeff)))"
   ]
  },
  {
   "cell_type": "code",
   "execution_count": 35,
   "metadata": {},
   "outputs": [
    {
     "data": {
      "image/png": "[encoded data removed]",
      "text/plain": [
       "<Figure size 720x432 with 1 Axes>"
      ]
     },
     "metadata": {
      "needs_background": "light"
     },
     "output_type": "display_data"
    }
   ],
   "source": [
    "plt.figure(figsize=(10,6))\n",
    "plt.semilogx(alphas, scores, '-o')\n",
    "plt.xlabel('$\\\\alpha$')\n",
    "plt.ylabel('$R^2$');"
   ]
  },
  {
   "cell_type": "markdown",
   "metadata": {},
   "source": [
    "### Ridge Regularization with Polynomial Features"
   ]
  },
  {
   "cell_type": "code",
   "execution_count": 36,
   "metadata": {},
   "outputs": [
    {
     "data": {
      "text/plain": [
       "Pipeline(steps=[('scaler', MinMaxScaler()),\n",
       "                ('make_higher_degree', PolynomialFeatures()),\n",
       "                ('ridge_regression', Ridge(alpha=1e-05))])"
      ]
     },
     "execution_count": 36,
     "metadata": {},
     "output_type": "execute_result"
    }
   ],
   "source": [
    "# We will use best alpha from previous step, alpha = 0.00001\n",
    "ridge_WithPoly = Pipeline([\n",
    "        (\"scaler\", mms),\n",
    "        (\"make_higher_degree\", pf),\n",
    "        (\"ridge_regression\", Ridge(alpha=0.00001))])\n",
    "\n",
    "ridge_WithPoly.fit(X, y)"
   ]
  },
  {
   "cell_type": "code",
   "execution_count": 37,
   "metadata": {},
   "outputs": [
    {
     "data": {
      "text/plain": [
       "0.8338163531066394"
      ]
     },
     "execution_count": 37,
     "metadata": {},
     "output_type": "execute_result"
    }
   ],
   "source": [
    "ridge_WithPoly_predictions = ridge_WithPoly.predict(X)\n",
    "ridge_WithPoly_r2score = r2_score(y, ridge_WithPoly_predictions)\n",
    "r2score_dict['Ridge Regression with Polynomial Features'] = ridge_WithPoly_r2score\n",
    "ridge_WithPoly_r2score  # The score has improved very well using Ridge Regression with polynomial features and MinMax scaling"
   ]
  },
  {
   "cell_type": "code",
   "execution_count": 38,
   "metadata": {},
   "outputs": [
    {
     "data": {
      "text/html": [
       "<div>\n",
       "<style scoped>\n",
       "    .dataframe tbody tr th:only-of-type {\n",
       "        vertical-align: middle;\n",
       "    }\n",
       "\n",
       "    .dataframe tbody tr th {\n",
       "        vertical-align: top;\n",
       "    }\n",
       "\n",
       "    .dataframe thead th {\n",
       "        text-align: right;\n",
       "    }\n",
       "</style>\n",
       "<table border=\"1\" class=\"dataframe\">\n",
       "  <thead>\n",
       "    <tr style=\"text-align: right;\">\n",
       "      <th></th>\n",
       "      <th>0</th>\n",
       "      <th>1</th>\n",
       "    </tr>\n",
       "  </thead>\n",
       "  <tbody>\n",
       "    <tr>\n",
       "      <th>178</th>\n",
       "      <td>x2 x15</td>\n",
       "      <td>-1.270071e+08</td>\n",
       "    </tr>\n",
       "    <tr>\n",
       "      <th>186</th>\n",
       "      <td>x2 x23</td>\n",
       "      <td>-7.833292e+07</td>\n",
       "    </tr>\n",
       "    <tr>\n",
       "      <th>117</th>\n",
       "      <td>x1 x7</td>\n",
       "      <td>-3.961750e+07</td>\n",
       "    </tr>\n",
       "    <tr>\n",
       "      <th>207</th>\n",
       "      <td>x2 x44</td>\n",
       "      <td>-3.877271e+07</td>\n",
       "    </tr>\n",
       "    <tr>\n",
       "      <th>166</th>\n",
       "      <td>x2 x3</td>\n",
       "      <td>-3.865054e+07</td>\n",
       "    </tr>\n",
       "    <tr>\n",
       "      <th>...</th>\n",
       "      <td>...</td>\n",
       "      <td>...</td>\n",
       "    </tr>\n",
       "    <tr>\n",
       "      <th>213</th>\n",
       "      <td>x2 x50</td>\n",
       "      <td>3.651916e+07</td>\n",
       "    </tr>\n",
       "    <tr>\n",
       "      <th>58</th>\n",
       "      <td>x0 x2</td>\n",
       "      <td>3.678713e+07</td>\n",
       "    </tr>\n",
       "    <tr>\n",
       "      <th>210</th>\n",
       "      <td>x2 x47</td>\n",
       "      <td>3.712291e+07</td>\n",
       "    </tr>\n",
       "    <tr>\n",
       "      <th>441</th>\n",
       "      <td>x7 x28</td>\n",
       "      <td>6.820548e+07</td>\n",
       "    </tr>\n",
       "    <tr>\n",
       "      <th>372</th>\n",
       "      <td>x6 x7</td>\n",
       "      <td>1.835662e+08</td>\n",
       "    </tr>\n",
       "  </tbody>\n",
       "</table>\n",
       "<p>1596 rows × 2 columns</p>\n",
       "</div>"
      ],
      "text/plain": [
       "          0             1\n",
       "178  x2 x15 -1.270071e+08\n",
       "186  x2 x23 -7.833292e+07\n",
       "117   x1 x7 -3.961750e+07\n",
       "207  x2 x44 -3.877271e+07\n",
       "166   x2 x3 -3.865054e+07\n",
       "..      ...           ...\n",
       "213  x2 x50  3.651916e+07\n",
       "58    x0 x2  3.678713e+07\n",
       "210  x2 x47  3.712291e+07\n",
       "441  x7 x28  6.820548e+07\n",
       "372   x6 x7  1.835662e+08\n",
       "\n",
       "[1596 rows x 2 columns]"
      ]
     },
     "execution_count": 38,
     "metadata": {},
     "output_type": "execute_result"
    }
   ],
   "source": [
    "df_importances = pd.DataFrame(zip(ridge_WithPoly.named_steps[\"make_higher_degree\"].get_feature_names(),\n",
    "                 ridge_WithPoly.named_steps[\"ridge_regression\"].coef_,\n",
    "))\n",
    "col_names_dict = dict(zip(list(range(len(X.columns.values))), X.columns.values))\n",
    "df_importances.sort_values(by=1)"
   ]
  },
  {
   "cell_type": "code",
   "execution_count": 39,
   "metadata": {},
   "outputs": [
    {
     "data": {
      "text/plain": [
       "Text(0.5, 1.06, 'Melbourne Housing Price Predictions vs Actual')"
      ]
     },
     "execution_count": 39,
     "metadata": {},
     "output_type": "execute_result"
    },
    {
     "data": {
      "image/png": "[encoded data removed]",
      "text/plain": [
       "<Figure size 432x288 with 1 Axes>"
      ]
     },
     "metadata": {
      "needs_background": "light"
     },
     "output_type": "display_data"
    }
   ],
   "source": [
    "# Plot of predictions vs actual\n",
    "fig = plt.figure(figsize = (6,4))\n",
    "plt.scatter(y, ridge_WithPoly_predictions, alpha=.5)\n",
    "fig.suptitle('Ridge Regression With MinMaxScaling and Polynomial Features', fontsize=18, y=1.07)\n",
    "plt.xlabel('Actual', fontsize=16)\n",
    "plt.ylabel('Predictions', fontsize=16)\n",
    "plt.title('Melbourne Housing Price Predictions vs Actual', fontsize=16, y=1.06)"
   ]
  },
  {
   "cell_type": "markdown",
   "metadata": {},
   "source": [
    "### ElasticNet Regularization"
   ]
  },
  {
   "cell_type": "code",
   "execution_count": 40,
   "metadata": {},
   "outputs": [],
   "source": [
    "l1_ratios = [0.1, 1, 5, 10]\n",
    "alphas = [0.1, 1, 10, 20, 30, 40, 100]\n",
    "\n",
    "scores = []\n",
    "for alpha in alphas:\n",
    "    for l1_ratio in l1_ratios:\n",
    "        elasticNet = ElasticNet(alpha=alpha, l1_ratio=l1_ratio, max_iter=100000)\n",
    "    \n",
    "        estimator = Pipeline([ (\"scaler\", mms),\n",
    "                               (\"elasticNet_regression\", elasticNet) ])\n",
    "\n",
    "        elasticNet_predictions = cross_val_predict(estimator, X, y, cv = kf)\n",
    "    \n",
    "        score = r2_score(y, elasticNet_predictions)\n",
    "    \n",
    "        scores.append(score)\n",
    "\n",
    "r2score_dict['ElasticNet Regression'] = np.mean(scores)"
   ]
  },
  {
   "cell_type": "code",
   "execution_count": 41,
   "metadata": {},
   "outputs": [],
   "source": [
    "hplist = []\n",
    "for alpha in alphas:\n",
    "    for l1_ratio in l1_ratios:\n",
    "        hplist.append((alpha, l1_ratio))"
   ]
  },
  {
   "cell_type": "code",
   "execution_count": 42,
   "metadata": {},
   "outputs": [
    {
     "data": {
      "text/plain": [
       "[((0.1, 0.1), 0.442221389322879),\n",
       " ((0.1, 1), 0.6706226188802155),\n",
       " ((0.1, 5), -16.29398412470547),\n",
       " ((0.1, 10), -0.36648619113232095),\n",
       " ((1, 0.1), 0.14533212000662687),\n",
       " ((1, 1), 0.6706253358322243),\n",
       " ((1, 5), -0.05117955961444287),\n",
       " ((1, 10), -0.02157002099869776),\n",
       " ((10, 0.1), 0.01950537996758861),\n",
       " ((10, 1), 0.6706489537136725),\n",
       " ((10, 5), -0.004818286492416002),\n",
       " ((10, 10), -0.002220698182126668),\n",
       " ((20, 0.1), 0.009871900962165947),\n",
       " ((20, 1), 0.670664214310932),\n",
       " ((20, 5), -0.002478760943843472),\n",
       " ((20, 10), -0.0011891732392539378),\n",
       " ((30, 0.1), 0.006572134004458663),\n",
       " ((30, 1), 0.6706711372755884),\n",
       " ((30, 5), -0.0017038860259013244),\n",
       " ((30, 10), -0.0008463031017234002),\n",
       " ((40, 0.1), 0.004905070978082793),\n",
       " ((40, 1), 0.6706658568988586),\n",
       " ((40, 5), -0.0013173726138431263),\n",
       " ((40, 10), -0.0006750494846718968),\n",
       " ((100, 0.1), 0.0018749676797661374),\n",
       " ((100, 1), 0.6704695991378247),\n",
       " ((100, 5), -0.0006231947284944805),\n",
       " ((100, 10), -0.00036709145018587463)]"
      ]
     },
     "execution_count": 42,
     "metadata": {},
     "output_type": "execute_result"
    }
   ],
   "source": [
    "list(zip(hplist, scores))"
   ]
  },
  {
   "cell_type": "code",
   "execution_count": 43,
   "metadata": {},
   "outputs": [
    {
     "data": {
      "text/plain": [
       "(0.6706711372755884, (30, 1))"
      ]
     },
     "execution_count": 43,
     "metadata": {},
     "output_type": "execute_result"
    }
   ],
   "source": [
    "list(sorted(zip(scores, hplist), reverse=True))[0]  # Best parameters"
   ]
  },
  {
   "cell_type": "code",
   "execution_count": 44,
   "metadata": {},
   "outputs": [
    {
     "name": "stdout",
     "output_type": "stream",
     "text": [
      "2 coefficients became zero using ElasticNet Regularization.\n"
     ]
    }
   ],
   "source": [
    "Best_elasticNet = ElasticNet(alpha=30, l1_ratio=1).fit(X, y)\n",
    "number_of_zero_coeff = len(Best_elasticNet.coef_[Best_elasticNet.coef_ == 0])\n",
    "print(('{} coefficients became zero using ElasticNet Regularization.'.format(number_of_zero_coeff)))"
   ]
  },
  {
   "cell_type": "markdown",
   "metadata": {},
   "source": [
    "### ElasticNet Regression with Polynomial Features"
   ]
  },
  {
   "cell_type": "code",
   "execution_count": 45,
   "metadata": {},
   "outputs": [
    {
     "data": {
      "text/plain": [
       "Pipeline(steps=[('scaler', MinMaxScaler()),\n",
       "                ('make_higher_degree', PolynomialFeatures()),\n",
       "                ('ridge_regression',\n",
       "                 ElasticNet(alpha=30, l1_ratio=1, max_iter=10000.0))])"
      ]
     },
     "execution_count": 45,
     "metadata": {},
     "output_type": "execute_result"
    }
   ],
   "source": [
    "# We will use best alpha and l1_ratio parameters from previous step, alpha = 30 and l1_ratio = 1\n",
    "elasticNet_WithPoly = Pipeline([\n",
    "        (\"scaler\", mms),\n",
    "        (\"make_higher_degree\", pf),\n",
    "        (\"ridge_regression\", ElasticNet(alpha=30, l1_ratio=1, max_iter=1e4))])\n",
    "\n",
    "elasticNet_WithPoly.fit(X, y)"
   ]
  },
  {
   "cell_type": "code",
   "execution_count": 46,
   "metadata": {},
   "outputs": [
    {
     "data": {
      "text/plain": [
       "0.8050397351428221"
      ]
     },
     "execution_count": 46,
     "metadata": {},
     "output_type": "execute_result"
    }
   ],
   "source": [
    "elasticNet_WithPoly_predictions = elasticNet_WithPoly.predict(X)\n",
    "elasticNet_WithPoly_r2score = r2_score(y, elasticNet_WithPoly_predictions)\n",
    "r2score_dict['ElasticNet Regression with Polynomial Features'] = elasticNet_WithPoly_r2score\n",
    "elasticNet_WithPoly_r2score  # The score has improved very well using elasticNet with polynomial features and MinMax scaling"
   ]
  },
  {
   "cell_type": "code",
   "execution_count": 47,
   "metadata": {},
   "outputs": [
    {
     "data": {
      "text/html": [
       "<div>\n",
       "<style scoped>\n",
       "    .dataframe tbody tr th:only-of-type {\n",
       "        vertical-align: middle;\n",
       "    }\n",
       "\n",
       "    .dataframe tbody tr th {\n",
       "        vertical-align: top;\n",
       "    }\n",
       "\n",
       "    .dataframe thead th {\n",
       "        text-align: right;\n",
       "    }\n",
       "</style>\n",
       "<table border=\"1\" class=\"dataframe\">\n",
       "  <thead>\n",
       "    <tr style=\"text-align: right;\">\n",
       "      <th></th>\n",
       "      <th>0</th>\n",
       "      <th>1</th>\n",
       "    </tr>\n",
       "  </thead>\n",
       "  <tbody>\n",
       "    <tr>\n",
       "      <th>420</th>\n",
       "      <td>x7^2</td>\n",
       "      <td>-8.996819e+06</td>\n",
       "    </tr>\n",
       "    <tr>\n",
       "      <th>375</th>\n",
       "      <td>x6 x10</td>\n",
       "      <td>-5.705282e+06</td>\n",
       "    </tr>\n",
       "    <tr>\n",
       "      <th>117</th>\n",
       "      <td>x1 x7</td>\n",
       "      <td>-5.292825e+06</td>\n",
       "    </tr>\n",
       "    <tr>\n",
       "      <th>57</th>\n",
       "      <td>x0 x1</td>\n",
       "      <td>-4.128708e+06</td>\n",
       "    </tr>\n",
       "    <tr>\n",
       "      <th>393</th>\n",
       "      <td>x6 x28</td>\n",
       "      <td>-3.680488e+06</td>\n",
       "    </tr>\n",
       "    <tr>\n",
       "      <th>...</th>\n",
       "      <td>...</td>\n",
       "      <td>...</td>\n",
       "    </tr>\n",
       "    <tr>\n",
       "      <th>8</th>\n",
       "      <td>x7</td>\n",
       "      <td>6.046650e+06</td>\n",
       "    </tr>\n",
       "    <tr>\n",
       "      <th>7</th>\n",
       "      <td>x6</td>\n",
       "      <td>6.461514e+06</td>\n",
       "    </tr>\n",
       "    <tr>\n",
       "      <th>453</th>\n",
       "      <td>x7 x40</td>\n",
       "      <td>9.283488e+06</td>\n",
       "    </tr>\n",
       "    <tr>\n",
       "      <th>273</th>\n",
       "      <td>x4 x7</td>\n",
       "      <td>1.005921e+07</td>\n",
       "    </tr>\n",
       "    <tr>\n",
       "      <th>454</th>\n",
       "      <td>x7 x41</td>\n",
       "      <td>1.128977e+07</td>\n",
       "    </tr>\n",
       "  </tbody>\n",
       "</table>\n",
       "<p>1596 rows × 2 columns</p>\n",
       "</div>"
      ],
      "text/plain": [
       "          0             1\n",
       "420    x7^2 -8.996819e+06\n",
       "375  x6 x10 -5.705282e+06\n",
       "117   x1 x7 -5.292825e+06\n",
       "57    x0 x1 -4.128708e+06\n",
       "393  x6 x28 -3.680488e+06\n",
       "..      ...           ...\n",
       "8        x7  6.046650e+06\n",
       "7        x6  6.461514e+06\n",
       "453  x7 x40  9.283488e+06\n",
       "273   x4 x7  1.005921e+07\n",
       "454  x7 x41  1.128977e+07\n",
       "\n",
       "[1596 rows x 2 columns]"
      ]
     },
     "execution_count": 47,
     "metadata": {},
     "output_type": "execute_result"
    }
   ],
   "source": [
    "df_importances = pd.DataFrame(zip(elasticNet_WithPoly.named_steps[\"make_higher_degree\"].get_feature_names(),\n",
    "                 elasticNet_WithPoly.named_steps[\"ridge_regression\"].coef_,\n",
    "))\n",
    "col_names_dict = dict(zip(list(range(len(X.columns.values))), X.columns.values))\n",
    "df_importances.sort_values(by=1)"
   ]
  },
  {
   "cell_type": "code",
   "execution_count": 48,
   "metadata": {},
   "outputs": [
    {
     "data": {
      "text/plain": [
       "Text(0.5, 1.06, 'Melbourne Housing Price Predictions vs Actual')"
      ]
     },
     "execution_count": 48,
     "metadata": {},
     "output_type": "execute_result"
    },
    {
     "data": {
      "image/png": "[encoded data removed]",
      "text/plain": [
       "<Figure size 432x288 with 1 Axes>"
      ]
     },
     "metadata": {
      "needs_background": "light"
     },
     "output_type": "display_data"
    }
   ],
   "source": [
    "# Plot of predictions vs actual\n",
    "fig = plt.figure(figsize = (6,4))\n",
    "plt.scatter(y, elasticNet_WithPoly_predictions, alpha=.5)\n",
    "fig.suptitle('ElasticNet Regression With MinMaxScaling and Polynomial Features', fontsize=18, y=1.07)\n",
    "plt.xlabel('Actual', fontsize=16)\n",
    "plt.ylabel('Predictions', fontsize=16)\n",
    "plt.title('Melbourne Housing Price Predictions vs Actual', fontsize=16, y=1.06)"
   ]
  },
  {
   "cell_type": "code",
   "execution_count": 49,
   "metadata": {},
   "outputs": [
    {
     "data": {
      "text/plain": [
       "{'Simple Linear Regression': 0.67562885178392,\n",
       " 'Simple Linear Regression with MinMax Scaling': 0.6756288517839144,\n",
       " 'Simple Linear Regression with MinMax Scaling & Cross Validation': 0.6706223090110537,\n",
       " 'Lasso Regression': 0.6706100396142524,\n",
       " 'Lasso Regression with Polynomial Features': 0.8188907503683591,\n",
       " 'Ridge Regression': 0.6583384462216006,\n",
       " 'Ridge Regression with Polynomial Features': 0.8338163531066394,\n",
       " 'ElasticNet Regression': -0.40802889406223236,\n",
       " 'ElasticNet Regression with Polynomial Features': 0.8050397351428221}"
      ]
     },
     "execution_count": 49,
     "metadata": {},
     "output_type": "execute_result"
    }
   ],
   "source": [
    "r2score_dict"
   ]
  },
  {
   "cell_type": "code",
   "execution_count": 50,
   "metadata": {},
   "outputs": [],
   "source": [
    "best_model, best_score = sorted(r2score_dict.items(),key=lambda item: item[1], reverse=True)[0]"
   ]
  },
  {
   "cell_type": "markdown",
   "metadata": {},
   "source": [
    "### Conclusion\n"
   ]
  },
  {
   "cell_type": "code",
   "execution_count": 51,
   "metadata": {},
   "outputs": [
    {
     "name": "stdout",
     "output_type": "stream",
     "text": [
      "The best score 0.8338 is obtained by using Ridge Regression with Polynomial Features.\n"
     ]
    }
   ],
   "source": [
    "print('The best score %0.4f is obtained by using {}.'.format(best_model) % (best_score))"
   ]
  },
  {
   "cell_type": "markdown",
   "metadata": {},
   "source": [
    "### Result Discussion\n",
    "In this demonstration, we observed that 'Ridge regression with Polynomial Features' proved best model for predicting house price. The difference of r2 scores for regularization techniques like Lasso, Ridge and Elasticnet is very small centered around 0.82. As compared to simple linear regression and simple linear regression with scaling and cross validation regression with regularization gives better result.\n",
    "The results can be improved further by cleaning and preparing data more thouroughly."
   ]
  },
  {
   "cell_type": "markdown",
   "metadata": {},
   "source": [
    "### Further Steps\n",
    "Here I used MinMax scaling only. The same analysis can be checked using other scaling methods. The same data can be modeled using LassoCV, RidgeCV and ElasticNetCV to check if performance improved further. Considering huge computational power and time required on personal laptop, I have tuned hyperparameters only to limited range however hyperparameter range can be extended and more best parameters can be found. We can also use GridSearchCV and RandomSearchCV for finding best parameters.\n",
    "The models can be evaluated on different error metrics to understand effect of different techniques on model performance."
   ]
  }
 ],
 "metadata": {
  "kernelspec": {
   "display_name": "Python 3",
   "language": "python",
   "name": "python3"
  },
  "language_info": {
   "codemirror_mode": {
    "name": "ipython",
    "version": 3
   },
   "file_extension": ".py",
   "mimetype": "text/x-python",
   "name": "python",
   "nbconvert_exporter": "python",
   "pygments_lexer": "ipython3",
   "version": "3.8.5"
  }
 },
 "nbformat": 4,
 "nbformat_minor": 4
}
